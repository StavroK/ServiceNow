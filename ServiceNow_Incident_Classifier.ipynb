{
  "nbformat": 4,
  "nbformat_minor": 0,
  "metadata": {
    "colab": {
      "name": "ServiceNow Incident Classifier.ipynb",
      "provenance": [],
      "authorship_tag": "ABX9TyPKFg0QZG4qwXVUDA6k1ODN",
      "include_colab_link": true
    },
    "kernelspec": {
      "name": "python3",
      "display_name": "Python 3"
    },
    "language_info": {
      "name": "python"
    }
  },
  "cells": [
    {
      "cell_type": "markdown",
      "metadata": {
        "id": "view-in-github",
        "colab_type": "text"
      },
      "source": [
        "<a href=\"https://colab.research.google.com/github/StavroK/ServiceNow/blob/main/ServiceNow_Incident_Classifier.ipynb\" target=\"_parent\"><img src=\"https://colab.research.google.com/assets/colab-badge.svg\" alt=\"Open In Colab\"/></a>"
      ]
    },
    {
      "cell_type": "code",
      "metadata": {
        "colab": {
          "base_uri": "https://localhost:8080/",
          "height": 17
        },
        "id": "OQvZTn3U4QsH",
        "outputId": "9afed4c0-ffaa-4d1a-f154-4c635fcdfcda"
      },
      "source": [
        "import keras \n",
        "import numpy as np\n",
        "from keras.preprocessing.text import Tokenizer\n",
        "import numpy as np\n",
        "import pandas as pd\n",
        "from keras.models import Sequential\n",
        "from keras.layers import Dense\n",
        "from keras.preprocessing.sequence import pad_sequences\n",
        "from keras.layers import Input, Dense, Dropout, Embedding, LSTM, Flatten\n",
        "from keras.models import Model\n",
        "from tensorflow.keras.utils import to_categorical\n",
        "from keras.callbacks import ModelCheckpoint\n",
        "import seaborn as sns\n",
        "import matplotlib.pyplot as plt\n",
        "from sklearn.model_selection import train_test_split\n",
        "from sklearn.metrics import accuracy_score\n",
        "plt.style.use('ggplot')\n",
        "%matplotlib inline\n",
        "from IPython.core.display import display, HTML\n",
        "display(HTML(\"<style>.container { width:100% !important; }</style>\"))"
      ],
      "execution_count": 71,
      "outputs": [
        {
          "output_type": "display_data",
          "data": {
            "text/html": [
              "<style>.container { width:100% !important; }</style>"
            ],
            "text/plain": [
              "<IPython.core.display.HTML object>"
            ]
          },
          "metadata": {}
        }
      ]
    },
    {
      "cell_type": "code",
      "metadata": {
        "id": "rnfBcNUKhGvf"
      },
      "source": [
        "data = pd.read_csv('incident en.csv')"
      ],
      "execution_count": 72,
      "outputs": []
    },
    {
      "cell_type": "code",
      "metadata": {
        "colab": {
          "base_uri": "https://localhost:8080/",
          "height": 428
        },
        "id": "H1rmvczuhH8x",
        "outputId": "cbf6b302-85c8-4046-a2fc-53de0ae53e2e"
      },
      "source": [
        "data.head()"
      ],
      "execution_count": 73,
      "outputs": [
        {
          "output_type": "execute_result",
          "data": {
            "text/html": [
              "<div>\n",
              "<style scoped>\n",
              "    .dataframe tbody tr th:only-of-type {\n",
              "        vertical-align: middle;\n",
              "    }\n",
              "\n",
              "    .dataframe tbody tr th {\n",
              "        vertical-align: top;\n",
              "    }\n",
              "\n",
              "    .dataframe thead th {\n",
              "        text-align: right;\n",
              "    }\n",
              "</style>\n",
              "<table border=\"1\" class=\"dataframe\">\n",
              "  <thead>\n",
              "    <tr style=\"text-align: right;\">\n",
              "      <th></th>\n",
              "      <th>description</th>\n",
              "      <th>number</th>\n",
              "      <th>parent_incident</th>\n",
              "      <th>caller_id</th>\n",
              "      <th>caller_id.location.parent</th>\n",
              "      <th>state</th>\n",
              "      <th>assignment_group</th>\n",
              "      <th>assigned_to</th>\n",
              "      <th>short_description</th>\n",
              "      <th>opened_at</th>\n",
              "      <th>priority</th>\n",
              "      <th>sys_updated_on</th>\n",
              "      <th>business_service</th>\n",
              "      <th>category</th>\n",
              "      <th>closed_at</th>\n",
              "      <th>closed_by</th>\n",
              "      <th>sys_created_on</th>\n",
              "      <th>sys_created_by</th>\n",
              "      <th>opened_by</th>\n",
              "      <th>u_technology</th>\n",
              "    </tr>\n",
              "  </thead>\n",
              "  <tbody>\n",
              "    <tr>\n",
              "      <th>0</th>\n",
              "      <td>Buenos días Estimados:\\r\\n\\r\\nM...</td>\n",
              "      <td>INC0026213</td>\n",
              "      <td>NaN</td>\n",
              "      <td>Daniel Ventura  Gonzalez</td>\n",
              "      <td>Mexico</td>\n",
              "      <td>Closed</td>\n",
              "      <td>LatAm Applications SD</td>\n",
              "      <td>Oscar Medellin</td>\n",
              "      <td>Creacion de grupo de vendedores</td>\n",
              "      <td>10/10/2018 11:10</td>\n",
              "      <td>Very Low</td>\n",
              "      <td>18/10/2018 08:17</td>\n",
              "      <td>SAP ERP</td>\n",
              "      <td>Inquiry / Help</td>\n",
              "      <td>18/10/2018 08:17</td>\n",
              "      <td>Oscar Medellin</td>\n",
              "      <td>10/10/2018 11:11</td>\n",
              "      <td>oscar.medellin@mexichem.com</td>\n",
              "      <td>Oscar Medellin</td>\n",
              "      <td>SAP LatAm SD</td>\n",
              "    </tr>\n",
              "    <tr>\n",
              "      <th>1</th>\n",
              "      <td>CONTRATO DE COMODATO E INVENTÁRI...</td>\n",
              "      <td>INC0430192</td>\n",
              "      <td>NaN</td>\n",
              "      <td>Donalson Harielton Mendes</td>\n",
              "      <td>Brazil</td>\n",
              "      <td>In Progress</td>\n",
              "      <td>Brazil Workplace Inventory</td>\n",
              "      <td>Maiara Paula de Jesus</td>\n",
              "      <td>CONTRATO DE COMODATO E INVENTÁRIO - NOVO COLAB...</td>\n",
              "      <td>07/10/2021 09:59</td>\n",
              "      <td>Low</td>\n",
              "      <td>08/10/2021 15:33</td>\n",
              "      <td>Desktop Non-Managed</td>\n",
              "      <td>Hardware</td>\n",
              "      <td>NaN</td>\n",
              "      <td>NaN</td>\n",
              "      <td>07/10/2021 09:59</td>\n",
              "      <td>donalson.mendes@wavin.com</td>\n",
              "      <td>Donalson Harielton Mendes</td>\n",
              "      <td>NaN</td>\n",
              "    </tr>\n",
              "    <tr>\n",
              "      <th>2</th>\n",
              "      <td>Inventário\\n\\n         Inventári...</td>\n",
              "      <td>INC0404409</td>\n",
              "      <td>NaN</td>\n",
              "      <td>Marcelo Dalmolini Nunes</td>\n",
              "      <td>Brazil</td>\n",
              "      <td>Closed</td>\n",
              "      <td>Brazil Workplace Inventory</td>\n",
              "      <td>Maiara Paula de Jesus</td>\n",
              "      <td>Inventário</td>\n",
              "      <td>04/08/2021 14:21</td>\n",
              "      <td>Low</td>\n",
              "      <td>12/08/2021 15:17</td>\n",
              "      <td>Desktop Managed Services</td>\n",
              "      <td>Hardware</td>\n",
              "      <td>12/08/2021 15:17</td>\n",
              "      <td>Maiara Paula de Jesus</td>\n",
              "      <td>04/08/2021 14:21</td>\n",
              "      <td>Marcelo.Nunes@mexichem.com</td>\n",
              "      <td>Marcelo Dalmolini Nunes</td>\n",
              "      <td>Desktop Hardware</td>\n",
              "    </tr>\n",
              "    <tr>\n",
              "      <th>3</th>\n",
              "      <td>Por favor necesito de su apoyo u...</td>\n",
              "      <td>INC0031543</td>\n",
              "      <td>NaN</td>\n",
              "      <td>William Lamount Santiago</td>\n",
              "      <td>Venezuela Bolivarian Republic of</td>\n",
              "      <td>Closed</td>\n",
              "      <td>Mexico Service Desk</td>\n",
              "      <td>Misael Arturo Tovar Roman</td>\n",
              "      <td>SAP - Restablecimiento de contraseña.</td>\n",
              "      <td>01/11/2018 13:47</td>\n",
              "      <td>Very Low</td>\n",
              "      <td>08/11/2018 21:17</td>\n",
              "      <td>SAP ERP</td>\n",
              "      <td>request</td>\n",
              "      <td>08/11/2018 21:17</td>\n",
              "      <td>Misael Arturo Tovar Roman</td>\n",
              "      <td>01/11/2018 13:47</td>\n",
              "      <td>william.lamount@mexichem.com</td>\n",
              "      <td>William Lamount Santiago</td>\n",
              "      <td>NaN</td>\n",
              "    </tr>\n",
              "    <tr>\n",
              "      <th>4</th>\n",
              "      <td>CONTRATO DE COMODATO E INVENTÁRIO ...</td>\n",
              "      <td>INC0411138</td>\n",
              "      <td>NaN</td>\n",
              "      <td>Marcelo Dalmolini Nunes</td>\n",
              "      <td>Brazil</td>\n",
              "      <td>Closed</td>\n",
              "      <td>Brazil Workplace Inventory</td>\n",
              "      <td>Maiara Paula de Jesus</td>\n",
              "      <td>Gestão de Ativos  - Adição de Equipamento</td>\n",
              "      <td>23/08/2021 08:26</td>\n",
              "      <td>Low</td>\n",
              "      <td>02/09/2021 15:17</td>\n",
              "      <td>Desktop Non-Managed</td>\n",
              "      <td>Hardware</td>\n",
              "      <td>02/09/2021 15:17</td>\n",
              "      <td>Maiara Paula de Jesus</td>\n",
              "      <td>23/08/2021 08:26</td>\n",
              "      <td>Marcelo.Nunes@mexichem.com</td>\n",
              "      <td>Marcelo Dalmolini Nunes</td>\n",
              "      <td>NaN</td>\n",
              "    </tr>\n",
              "  </tbody>\n",
              "</table>\n",
              "</div>"
            ],
            "text/plain": [
              "                                         description  ...      u_technology\n",
              "0                 Buenos días Estimados:\\r\\n\\r\\nM...  ...      SAP LatAm SD\n",
              "1                CONTRATO DE COMODATO E INVENTÁRI...  ...               NaN\n",
              "2                Inventário\\n\\n         Inventári...  ...  Desktop Hardware\n",
              "3                Por favor necesito de su apoyo u...  ...               NaN\n",
              "4              CONTRATO DE COMODATO E INVENTÁRIO ...  ...               NaN\n",
              "\n",
              "[5 rows x 20 columns]"
            ]
          },
          "metadata": {},
          "execution_count": 73
        }
      ]
    },
    {
      "cell_type": "code",
      "metadata": {
        "colab": {
          "base_uri": "https://localhost:8080/"
        },
        "id": "3NKld891hOQ7",
        "outputId": "add05211-c8cf-4134-a8f2-c5f1c5878a82"
      },
      "source": [
        "data.category.value_counts()"
      ],
      "execution_count": 74,
      "outputs": [
        {
          "output_type": "execute_result",
          "data": {
            "text/plain": [
              "Software          41730\n",
              "Inquiry / Help    24298\n",
              "Access Issue      17699\n",
              "Hardware           7815\n",
              "Network            5300\n",
              "Database            996\n",
              "ITSM                429\n",
              "Security            354\n",
              "request             246\n",
              "none                 25\n",
              "Name: category, dtype: int64"
            ]
          },
          "metadata": {},
          "execution_count": 74
        }
      ]
    },
    {
      "cell_type": "code",
      "metadata": {
        "id": "kwTejWYBnlYg"
      },
      "source": [
        "data['target'] = data.category.astype('category').cat.codes"
      ],
      "execution_count": 75,
      "outputs": []
    },
    {
      "cell_type": "code",
      "metadata": {
        "id": "d5GMZvn5IZJC"
      },
      "source": [
        "data['description'] = data['description'].astype(str)"
      ],
      "execution_count": 76,
      "outputs": []
    },
    {
      "cell_type": "code",
      "metadata": {
        "colab": {
          "base_uri": "https://localhost:8080/",
          "height": 428
        },
        "id": "Rl6rPfagnmKG",
        "outputId": "747e1615-36ac-4f47-f45d-b8bffc5bac46"
      },
      "source": [
        "data.head()"
      ],
      "execution_count": 77,
      "outputs": [
        {
          "output_type": "execute_result",
          "data": {
            "text/html": [
              "<div>\n",
              "<style scoped>\n",
              "    .dataframe tbody tr th:only-of-type {\n",
              "        vertical-align: middle;\n",
              "    }\n",
              "\n",
              "    .dataframe tbody tr th {\n",
              "        vertical-align: top;\n",
              "    }\n",
              "\n",
              "    .dataframe thead th {\n",
              "        text-align: right;\n",
              "    }\n",
              "</style>\n",
              "<table border=\"1\" class=\"dataframe\">\n",
              "  <thead>\n",
              "    <tr style=\"text-align: right;\">\n",
              "      <th></th>\n",
              "      <th>description</th>\n",
              "      <th>number</th>\n",
              "      <th>parent_incident</th>\n",
              "      <th>caller_id</th>\n",
              "      <th>caller_id.location.parent</th>\n",
              "      <th>state</th>\n",
              "      <th>assignment_group</th>\n",
              "      <th>assigned_to</th>\n",
              "      <th>short_description</th>\n",
              "      <th>opened_at</th>\n",
              "      <th>priority</th>\n",
              "      <th>sys_updated_on</th>\n",
              "      <th>business_service</th>\n",
              "      <th>category</th>\n",
              "      <th>closed_at</th>\n",
              "      <th>closed_by</th>\n",
              "      <th>sys_created_on</th>\n",
              "      <th>sys_created_by</th>\n",
              "      <th>opened_by</th>\n",
              "      <th>u_technology</th>\n",
              "      <th>target</th>\n",
              "    </tr>\n",
              "  </thead>\n",
              "  <tbody>\n",
              "    <tr>\n",
              "      <th>0</th>\n",
              "      <td>Buenos días Estimados:\\r\\n\\r\\nM...</td>\n",
              "      <td>INC0026213</td>\n",
              "      <td>NaN</td>\n",
              "      <td>Daniel Ventura  Gonzalez</td>\n",
              "      <td>Mexico</td>\n",
              "      <td>Closed</td>\n",
              "      <td>LatAm Applications SD</td>\n",
              "      <td>Oscar Medellin</td>\n",
              "      <td>Creacion de grupo de vendedores</td>\n",
              "      <td>10/10/2018 11:10</td>\n",
              "      <td>Very Low</td>\n",
              "      <td>18/10/2018 08:17</td>\n",
              "      <td>SAP ERP</td>\n",
              "      <td>Inquiry / Help</td>\n",
              "      <td>18/10/2018 08:17</td>\n",
              "      <td>Oscar Medellin</td>\n",
              "      <td>10/10/2018 11:11</td>\n",
              "      <td>oscar.medellin@mexichem.com</td>\n",
              "      <td>Oscar Medellin</td>\n",
              "      <td>SAP LatAm SD</td>\n",
              "      <td>4</td>\n",
              "    </tr>\n",
              "    <tr>\n",
              "      <th>1</th>\n",
              "      <td>CONTRATO DE COMODATO E INVENTÁRI...</td>\n",
              "      <td>INC0430192</td>\n",
              "      <td>NaN</td>\n",
              "      <td>Donalson Harielton Mendes</td>\n",
              "      <td>Brazil</td>\n",
              "      <td>In Progress</td>\n",
              "      <td>Brazil Workplace Inventory</td>\n",
              "      <td>Maiara Paula de Jesus</td>\n",
              "      <td>CONTRATO DE COMODATO E INVENTÁRIO - NOVO COLAB...</td>\n",
              "      <td>07/10/2021 09:59</td>\n",
              "      <td>Low</td>\n",
              "      <td>08/10/2021 15:33</td>\n",
              "      <td>Desktop Non-Managed</td>\n",
              "      <td>Hardware</td>\n",
              "      <td>NaN</td>\n",
              "      <td>NaN</td>\n",
              "      <td>07/10/2021 09:59</td>\n",
              "      <td>donalson.mendes@wavin.com</td>\n",
              "      <td>Donalson Harielton Mendes</td>\n",
              "      <td>NaN</td>\n",
              "      <td>2</td>\n",
              "    </tr>\n",
              "    <tr>\n",
              "      <th>2</th>\n",
              "      <td>Inventário\\n\\n         Inventári...</td>\n",
              "      <td>INC0404409</td>\n",
              "      <td>NaN</td>\n",
              "      <td>Marcelo Dalmolini Nunes</td>\n",
              "      <td>Brazil</td>\n",
              "      <td>Closed</td>\n",
              "      <td>Brazil Workplace Inventory</td>\n",
              "      <td>Maiara Paula de Jesus</td>\n",
              "      <td>Inventário</td>\n",
              "      <td>04/08/2021 14:21</td>\n",
              "      <td>Low</td>\n",
              "      <td>12/08/2021 15:17</td>\n",
              "      <td>Desktop Managed Services</td>\n",
              "      <td>Hardware</td>\n",
              "      <td>12/08/2021 15:17</td>\n",
              "      <td>Maiara Paula de Jesus</td>\n",
              "      <td>04/08/2021 14:21</td>\n",
              "      <td>Marcelo.Nunes@mexichem.com</td>\n",
              "      <td>Marcelo Dalmolini Nunes</td>\n",
              "      <td>Desktop Hardware</td>\n",
              "      <td>2</td>\n",
              "    </tr>\n",
              "    <tr>\n",
              "      <th>3</th>\n",
              "      <td>Por favor necesito de su apoyo u...</td>\n",
              "      <td>INC0031543</td>\n",
              "      <td>NaN</td>\n",
              "      <td>William Lamount Santiago</td>\n",
              "      <td>Venezuela Bolivarian Republic of</td>\n",
              "      <td>Closed</td>\n",
              "      <td>Mexico Service Desk</td>\n",
              "      <td>Misael Arturo Tovar Roman</td>\n",
              "      <td>SAP - Restablecimiento de contraseña.</td>\n",
              "      <td>01/11/2018 13:47</td>\n",
              "      <td>Very Low</td>\n",
              "      <td>08/11/2018 21:17</td>\n",
              "      <td>SAP ERP</td>\n",
              "      <td>request</td>\n",
              "      <td>08/11/2018 21:17</td>\n",
              "      <td>Misael Arturo Tovar Roman</td>\n",
              "      <td>01/11/2018 13:47</td>\n",
              "      <td>william.lamount@mexichem.com</td>\n",
              "      <td>William Lamount Santiago</td>\n",
              "      <td>NaN</td>\n",
              "      <td>9</td>\n",
              "    </tr>\n",
              "    <tr>\n",
              "      <th>4</th>\n",
              "      <td>CONTRATO DE COMODATO E INVENTÁRIO ...</td>\n",
              "      <td>INC0411138</td>\n",
              "      <td>NaN</td>\n",
              "      <td>Marcelo Dalmolini Nunes</td>\n",
              "      <td>Brazil</td>\n",
              "      <td>Closed</td>\n",
              "      <td>Brazil Workplace Inventory</td>\n",
              "      <td>Maiara Paula de Jesus</td>\n",
              "      <td>Gestão de Ativos  - Adição de Equipamento</td>\n",
              "      <td>23/08/2021 08:26</td>\n",
              "      <td>Low</td>\n",
              "      <td>02/09/2021 15:17</td>\n",
              "      <td>Desktop Non-Managed</td>\n",
              "      <td>Hardware</td>\n",
              "      <td>02/09/2021 15:17</td>\n",
              "      <td>Maiara Paula de Jesus</td>\n",
              "      <td>23/08/2021 08:26</td>\n",
              "      <td>Marcelo.Nunes@mexichem.com</td>\n",
              "      <td>Marcelo Dalmolini Nunes</td>\n",
              "      <td>NaN</td>\n",
              "      <td>2</td>\n",
              "    </tr>\n",
              "  </tbody>\n",
              "</table>\n",
              "</div>"
            ],
            "text/plain": [
              "                                         description  ... target\n",
              "0                 Buenos días Estimados:\\r\\n\\r\\nM...  ...      4\n",
              "1                CONTRATO DE COMODATO E INVENTÁRI...  ...      2\n",
              "2                Inventário\\n\\n         Inventári...  ...      2\n",
              "3                Por favor necesito de su apoyo u...  ...      9\n",
              "4              CONTRATO DE COMODATO E INVENTÁRIO ...  ...      2\n",
              "\n",
              "[5 rows x 21 columns]"
            ]
          },
          "metadata": {},
          "execution_count": 77
        }
      ]
    },
    {
      "cell_type": "code",
      "metadata": {
        "id": "mcS8DdYInpvY"
      },
      "source": [
        "data['num_words'] = data.description.apply(lambda x: \" \".join(x.lower() for x in str(x).split()))"
      ],
      "execution_count": 78,
      "outputs": []
    },
    {
      "cell_type": "code",
      "metadata": {
        "id": "vPMrXhxNnvRx",
        "colab": {
          "base_uri": "https://localhost:8080/",
          "height": 357
        },
        "outputId": "e31230c0-6655-4bec-d5bd-235ffd09c3fb"
      },
      "source": [
        "bins=[0,50,75, np.inf]\n",
        "data['bins']=pd.cut(data.num_words, bins=[0,100,300,500,800, np.inf], labels=['0-100', '100-300', '300-500','500-800' ,'>800'])"
      ],
      "execution_count": 79,
      "outputs": [
        {
          "output_type": "error",
          "ename": "TypeError",
          "evalue": "ignored",
          "traceback": [
            "\u001b[0;31m---------------------------------------------------------------------------\u001b[0m",
            "\u001b[0;31mTypeError\u001b[0m                                 Traceback (most recent call last)",
            "\u001b[0;32m<ipython-input-79-4ad788c4eac3>\u001b[0m in \u001b[0;36m<module>\u001b[0;34m()\u001b[0m\n\u001b[1;32m      1\u001b[0m \u001b[0mbins\u001b[0m\u001b[0;34m=\u001b[0m\u001b[0;34m[\u001b[0m\u001b[0;36m0\u001b[0m\u001b[0;34m,\u001b[0m\u001b[0;36m50\u001b[0m\u001b[0;34m,\u001b[0m\u001b[0;36m75\u001b[0m\u001b[0;34m,\u001b[0m \u001b[0mnp\u001b[0m\u001b[0;34m.\u001b[0m\u001b[0minf\u001b[0m\u001b[0;34m]\u001b[0m\u001b[0;34m\u001b[0m\u001b[0;34m\u001b[0m\u001b[0m\n\u001b[0;32m----> 2\u001b[0;31m \u001b[0mdata\u001b[0m\u001b[0;34m[\u001b[0m\u001b[0;34m'bins'\u001b[0m\u001b[0;34m]\u001b[0m\u001b[0;34m=\u001b[0m\u001b[0mpd\u001b[0m\u001b[0;34m.\u001b[0m\u001b[0mcut\u001b[0m\u001b[0;34m(\u001b[0m\u001b[0mdata\u001b[0m\u001b[0;34m.\u001b[0m\u001b[0mnum_words\u001b[0m\u001b[0;34m,\u001b[0m \u001b[0mbins\u001b[0m\u001b[0;34m=\u001b[0m\u001b[0;34m[\u001b[0m\u001b[0;36m0\u001b[0m\u001b[0;34m,\u001b[0m\u001b[0;36m100\u001b[0m\u001b[0;34m,\u001b[0m\u001b[0;36m300\u001b[0m\u001b[0;34m,\u001b[0m\u001b[0;36m500\u001b[0m\u001b[0;34m,\u001b[0m\u001b[0;36m800\u001b[0m\u001b[0;34m,\u001b[0m \u001b[0mnp\u001b[0m\u001b[0;34m.\u001b[0m\u001b[0minf\u001b[0m\u001b[0;34m]\u001b[0m\u001b[0;34m,\u001b[0m \u001b[0mlabels\u001b[0m\u001b[0;34m=\u001b[0m\u001b[0;34m[\u001b[0m\u001b[0;34m'0-100'\u001b[0m\u001b[0;34m,\u001b[0m \u001b[0;34m'100-300'\u001b[0m\u001b[0;34m,\u001b[0m \u001b[0;34m'300-500'\u001b[0m\u001b[0;34m,\u001b[0m\u001b[0;34m'500-800'\u001b[0m \u001b[0;34m,\u001b[0m\u001b[0;34m'>800'\u001b[0m\u001b[0;34m]\u001b[0m\u001b[0;34m)\u001b[0m\u001b[0;34m\u001b[0m\u001b[0;34m\u001b[0m\u001b[0m\n\u001b[0m",
            "\u001b[0;32m/usr/local/lib/python3.7/dist-packages/pandas/core/reshape/tile.py\u001b[0m in \u001b[0;36mcut\u001b[0;34m(x, bins, right, labels, retbins, precision, include_lowest, duplicates, ordered)\u001b[0m\n\u001b[1;32m    282\u001b[0m         \u001b[0mdtype\u001b[0m\u001b[0;34m=\u001b[0m\u001b[0mdtype\u001b[0m\u001b[0;34m,\u001b[0m\u001b[0;34m\u001b[0m\u001b[0;34m\u001b[0m\u001b[0m\n\u001b[1;32m    283\u001b[0m         \u001b[0mduplicates\u001b[0m\u001b[0;34m=\u001b[0m\u001b[0mduplicates\u001b[0m\u001b[0;34m,\u001b[0m\u001b[0;34m\u001b[0m\u001b[0;34m\u001b[0m\u001b[0m\n\u001b[0;32m--> 284\u001b[0;31m         \u001b[0mordered\u001b[0m\u001b[0;34m=\u001b[0m\u001b[0mordered\u001b[0m\u001b[0;34m,\u001b[0m\u001b[0;34m\u001b[0m\u001b[0;34m\u001b[0m\u001b[0m\n\u001b[0m\u001b[1;32m    285\u001b[0m     )\n\u001b[1;32m    286\u001b[0m \u001b[0;34m\u001b[0m\u001b[0m\n",
            "\u001b[0;32m/usr/local/lib/python3.7/dist-packages/pandas/core/reshape/tile.py\u001b[0m in \u001b[0;36m_bins_to_cuts\u001b[0;34m(x, bins, right, labels, precision, include_lowest, dtype, duplicates, ordered)\u001b[0m\n\u001b[1;32m    407\u001b[0m \u001b[0;34m\u001b[0m\u001b[0m\n\u001b[1;32m    408\u001b[0m     \u001b[0mside\u001b[0m \u001b[0;34m=\u001b[0m \u001b[0;34m\"left\"\u001b[0m \u001b[0;32mif\u001b[0m \u001b[0mright\u001b[0m \u001b[0;32melse\u001b[0m \u001b[0;34m\"right\"\u001b[0m\u001b[0;34m\u001b[0m\u001b[0;34m\u001b[0m\u001b[0m\n\u001b[0;32m--> 409\u001b[0;31m     \u001b[0mids\u001b[0m \u001b[0;34m=\u001b[0m \u001b[0mensure_int64\u001b[0m\u001b[0;34m(\u001b[0m\u001b[0mbins\u001b[0m\u001b[0;34m.\u001b[0m\u001b[0msearchsorted\u001b[0m\u001b[0;34m(\u001b[0m\u001b[0mx\u001b[0m\u001b[0;34m,\u001b[0m \u001b[0mside\u001b[0m\u001b[0;34m=\u001b[0m\u001b[0mside\u001b[0m\u001b[0;34m)\u001b[0m\u001b[0;34m)\u001b[0m\u001b[0;34m\u001b[0m\u001b[0;34m\u001b[0m\u001b[0m\n\u001b[0m\u001b[1;32m    410\u001b[0m \u001b[0;34m\u001b[0m\u001b[0m\n\u001b[1;32m    411\u001b[0m     \u001b[0;32mif\u001b[0m \u001b[0minclude_lowest\u001b[0m\u001b[0;34m:\u001b[0m\u001b[0;34m\u001b[0m\u001b[0;34m\u001b[0m\u001b[0m\n",
            "\u001b[0;31mTypeError\u001b[0m: '<' not supported between instances of 'float' and 'str'"
          ]
        }
      ]
    },
    {
      "cell_type": "code",
      "metadata": {
        "id": "P1SVVIiUn1VC"
      },
      "source": [
        "word_distribution = data.groupby('bins').size().reset_index().rename(columns={0:'counts'})"
      ],
      "execution_count": null,
      "outputs": []
    },
    {
      "cell_type": "code",
      "metadata": {
        "id": "1-waRcPrn4gq"
      },
      "source": [
        "word_distribution.head()"
      ],
      "execution_count": null,
      "outputs": []
    },
    {
      "cell_type": "code",
      "metadata": {
        "id": "qojhwYMln7ps"
      },
      "source": [
        "sns.barplot(x='bins', y='counts', data=word_distribution).set_title(\"Word distribution per bin\")"
      ],
      "execution_count": null,
      "outputs": []
    },
    {
      "cell_type": "code",
      "metadata": {
        "id": "XQiWDRxjoA8f"
      },
      "source": [
        "data.head()"
      ],
      "execution_count": null,
      "outputs": []
    },
    {
      "cell_type": "code",
      "metadata": {
        "id": "_ykllIwtoH0q"
      },
      "source": [
        "num_class = len(np.unique(data.Category.values))\n",
        "y = data['target'].values"
      ],
      "execution_count": null,
      "outputs": []
    },
    {
      "cell_type": "markdown",
      "metadata": {
        "id": "C-HHuNH3jWg5"
      },
      "source": [
        "Topic Modelling"
      ]
    },
    {
      "cell_type": "code",
      "metadata": {
        "id": "msar4DtcoI45"
      },
      "source": [
        "from sklearn.feature_extraction.text import CountVectorizer, TfidfTransformer\n",
        "import numpy as np\n",
        "import pandas as pd\n",
        "import re\n",
        "import warnings\n",
        "\n",
        "#Visualisation\n",
        "import matplotlib.pyplot as plt\n",
        "import matplotlib\n",
        "import seaborn as sns\n",
        "from IPython.display import display\n",
        "#from mpl_toolkits.basemap import Basemap\n",
        "from wordcloud import WordCloud, STOPWORDS\n",
        "\n",
        "#nltk\n",
        "from nltk.stem import WordNetLemmatizer\n",
        "from nltk.sentiment.vader import SentimentIntensityAnalyzer\n",
        "from nltk.sentiment.util import *\n",
        "from nltk import tokenize"
      ],
      "execution_count": null,
      "outputs": []
    },
    {
      "cell_type": "code",
      "metadata": {
        "id": "hdtEOxTijewx"
      },
      "source": [
        "data['Description'] = data['Description'].astype(str)"
      ],
      "execution_count": null,
      "outputs": []
    },
    {
      "cell_type": "code",
      "metadata": {
        "id": "k8Xv_TyWjiub"
      },
      "source": [
        "type(data['Description'])"
      ],
      "execution_count": null,
      "outputs": []
    },
    {
      "cell_type": "code",
      "metadata": {
        "id": "e2l4dV_2jlfM"
      },
      "source": [
        "data_description = data.Description.values"
      ],
      "execution_count": null,
      "outputs": []
    },
    {
      "cell_type": "code",
      "metadata": {
        "id": "dln1nEDEjo7N"
      },
      "source": [
        "type(data_description)"
      ],
      "execution_count": null,
      "outputs": []
    },
    {
      "cell_type": "code",
      "metadata": {
        "id": "7ROVOGNyjrwV"
      },
      "source": [
        "#cv = # Initialize a CountVectorizer object: count_vectorizer\n",
        "count_vec = CountVectorizer(stop_words=\"english\", analyzer='word', \n",
        "                            ngram_range=(1, 1), max_df=1, min_df=1, max_features=None)\n",
        "\n",
        "# convert text data into term-frequency matrix\n",
        "data_description = count_vec.fit_transform(data_description)\n",
        "\n",
        "\n",
        "\n",
        "\n",
        "tfidf_transformer = TfidfTransformer()\n",
        "\n",
        "# convert term-frequency matrix into tf-idf\n",
        "tfidf_matrix = tfidf_transformer.fit_transform(data_description)\n",
        "\n",
        "# create dictionary to find a tfidf word each word\n",
        "word2tfidf = dict(zip(count_vec.get_feature_names(), tfidf_transformer.idf_))\n",
        "\n",
        "for word, score in word2tfidf.items():\n",
        "    print(word, score)"
      ],
      "execution_count": null,
      "outputs": []
    },
    {
      "cell_type": "code",
      "metadata": {
        "id": "YmUo5DEFjwqy"
      },
      "source": [
        "term_frequency = count_vec.vocabulary_\n",
        "type(term_frequency)"
      ],
      "execution_count": null,
      "outputs": []
    },
    {
      "cell_type": "code",
      "metadata": {
        "id": "L0haQGagj42r"
      },
      "source": [
        "sorted_by_idf = np.argsort(tfidf_transformer.idf_)\n",
        "feature_names = np.array(count_vec.get_feature_names())\n",
        "print(\"Features with lowest idf:\\n{}\".format(\n",
        "       feature_names[sorted_by_idf[:10]]))\n",
        "print(\"\\nFeatures with highest idf:\\n{}\".format(\n",
        "       feature_names[sorted_by_idf[-10:]]))"
      ],
      "execution_count": null,
      "outputs": []
    },
    {
      "cell_type": "code",
      "metadata": {
        "id": "sA2acHPwj9L6"
      },
      "source": [
        "count = nltk.FreqDist(data.Description.values)\n",
        "count.plot(30)"
      ],
      "execution_count": null,
      "outputs": []
    },
    {
      "cell_type": "code",
      "metadata": {
        "id": "pWIWEKsgkB3_"
      },
      "source": [
        "final_doc = data['Description']\n",
        "all_documents = tuple(final_doc)"
      ],
      "execution_count": null,
      "outputs": []
    },
    {
      "cell_type": "code",
      "metadata": {
        "id": "c63rBbIqkGMM"
      },
      "source": [
        "from sklearn.feature_extraction.text import TfidfVectorizer\n",
        "tfidf_vectorizer = TfidfVectorizer()\n",
        "tfidf_matrix = tfidf_vectorizer.fit_transform(all_documents)\n",
        "print (tfidf_matrix.shape)\n",
        "print(tfidf_matrix)"
      ],
      "execution_count": null,
      "outputs": []
    },
    {
      "cell_type": "code",
      "metadata": {
        "id": "fKqPn8U8kIMw"
      },
      "source": [
        "reindexed_data= data[\"Description\"]\n",
        "\n",
        "data_text = data[['Description']]\n",
        "data_text['index'] = data_text.index\n",
        "documents=data_text\n",
        "\n",
        "\n",
        "print(len(documents))\n",
        "print(documents[:5])\n",
        "\n",
        "import gensim\n",
        "from gensim.utils import simple_preprocess\n",
        "from gensim.parsing.preprocessing import STOPWORDS\n",
        "from nltk.stem import WordNetLemmatizer, SnowballStemmer\n",
        "from nltk.stem.porter import *\n",
        "import numpy as np\n",
        "np.random.seed(2018)\n",
        "import nltk\n",
        "\n",
        "\n",
        "def lemmatize_stemming(text):\n",
        "    return stemmer.stem(WordNetLemmatizer().lemmatize(text, pos='v'))\n",
        "def preprocess(text):\n",
        "    result = []\n",
        "    for token in gensim.utils.simple_preprocess(text):\n",
        "        if token not in gensim.parsing.preprocessing.STOPWORDS and len(token) > 3:\n",
        "            result.append(lemmatize_stemming(token))\n",
        "    return result"
      ],
      "execution_count": null,
      "outputs": []
    },
    {
      "cell_type": "code",
      "metadata": {
        "id": "0D0pnlUOkIYN"
      },
      "source": [
        "from nltk.stem.porter import *\n",
        "stemmer = PorterStemmer()\n",
        "stemmer.stem('identified')\n",
        "\n",
        "\n",
        "doc_sample = documents[documents['index'] == 5].values[0][0]\n",
        "print('original document: ')\n",
        "words = []\n",
        "for word in doc_sample.split(' '):\n",
        "    words.append(word)\n",
        "print(words)\n",
        "print('\\n\\n tokenized and lemmatized document: ')\n",
        "print(preprocess(doc_sample))\n",
        "\n",
        "\n",
        "processed_docs = documents['Description'].map(preprocess)\n",
        "processed_docs[:5]"
      ],
      "execution_count": null,
      "outputs": []
    },
    {
      "cell_type": "code",
      "metadata": {
        "id": "-F7_R3eEkRjB"
      },
      "source": [
        "dictionary = gensim.corpora.Dictionary(processed_docs)\n",
        "count = 0\n",
        "for k, v in dictionary.iteritems():\n",
        "    print(k, v)\n",
        "    count += 1\n",
        "    if count > 10:\n",
        "        break"
      ],
      "execution_count": null,
      "outputs": []
    },
    {
      "cell_type": "code",
      "metadata": {
        "id": "uaL25n65lccZ"
      },
      "source": [
        "dictionary.filter_extremes(no_below=15, no_above=0.5, keep_n=100000)\n",
        "\n",
        "bow_corpus = [dictionary.doc2bow(doc) for doc in processed_docs]\n",
        "bow_corpus[123]"
      ],
      "execution_count": null,
      "outputs": []
    },
    {
      "cell_type": "code",
      "metadata": {
        "id": "yHMJwhHclpiP"
      },
      "source": [
        "#Preview Bag Of Words for our sample preprocessed document.\n",
        "bow_doc_123 = bow_corpus[123]\n",
        "for i in range(len(bow_doc_123)):\n",
        "    print(\"Word {} (\\\"{}\\\") appears {} time.\".format(bow_doc_123[i][0], \n",
        "                                               dictionary[bow_doc_123[i][0]], \n",
        "bow_doc_123[i][1]))"
      ],
      "execution_count": null,
      "outputs": []
    },
    {
      "cell_type": "code",
      "metadata": {
        "id": "PfO3ZKOXlux3"
      },
      "source": [
        "#TF-IDF\n",
        "from gensim import corpora, models\n",
        "tfidf = models.TfidfModel(bow_corpus)\n",
        "corpus_tfidf = tfidf[bow_corpus]\n",
        "from pprint import pprint\n",
        "for doc in corpus_tfidf:\n",
        "    pprint(doc)\n",
        "    break"
      ],
      "execution_count": null,
      "outputs": []
    },
    {
      "cell_type": "code",
      "metadata": {
        "id": "sUfLZlC5lyQ0"
      },
      "source": [
        "lda_model = gensim.models.LdaMulticore(bow_corpus, num_topics=5, id2word=dictionary, passes=2, workers=2)"
      ],
      "execution_count": null,
      "outputs": []
    },
    {
      "cell_type": "code",
      "metadata": {
        "id": "Oi5ppKdRl2--"
      },
      "source": [
        "# Print the results\n",
        "import pickle\n",
        "\n",
        "# Here we can assign topic names to each topic list, you can specify the number of words you want to have shown (e.g num_words = 5)\n",
        "result = lda_model.print_topics(num_topics=5, num_words=5)\n",
        "print(result)\n",
        "\n",
        "for idx, topic in lda_model.print_topics(-1):\n",
        "    print('Topic: {} \\nWords: {}'.format(idx, topic))"
      ],
      "execution_count": null,
      "outputs": []
    },
    {
      "cell_type": "code",
      "metadata": {
        "id": "wDRVxZ0ml6eY"
      },
      "source": [
        "# put these in a file and name the topics\n",
        "with open(\"lda_topics_result.txt\", \"w\") as f:\n",
        "    for s in result:\n",
        "        f.write(str(s) +\"\\n\")"
      ],
      "execution_count": null,
      "outputs": []
    },
    {
      "cell_type": "code",
      "metadata": {
        "id": "al_G9Cmvl-zU"
      },
      "source": [
        "# Visualize\n",
        "import pyLDAvis.gensim\n",
        "\n",
        "lda_display = pyLDAvis.gensim.prepare(lda_model, bow_corpus,dictionary, sort_topics=True)\n",
        "pyLDAvis.display(lda_display)"
      ],
      "execution_count": null,
      "outputs": []
    },
    {
      "cell_type": "code",
      "metadata": {
        "id": "yz04Ne9WmCuN"
      },
      "source": [
        "from collections import OrderedDict\n",
        "\n",
        "data_lda = {i: OrderedDict(lda_model.show_topic(i,25)) for i in range(5)}"
      ],
      "execution_count": null,
      "outputs": []
    },
    {
      "cell_type": "code",
      "metadata": {
        "id": "MtCI5xWGmFlo"
      },
      "source": [
        "import pandas as pd\n",
        "\n",
        "df_lda = pd.DataFrame(data_lda)\n",
        "print(df_lda.shape)\n",
        "df_lda = df_lda.fillna(0).T\n",
        "print(df_lda.shape)"
      ],
      "execution_count": null,
      "outputs": []
    },
    {
      "cell_type": "code",
      "metadata": {
        "id": "N4ilubu0mIJs"
      },
      "source": [
        "df_lda"
      ],
      "execution_count": null,
      "outputs": []
    },
    {
      "cell_type": "code",
      "metadata": {
        "id": "ozIC0jTrmLte"
      },
      "source": [
        "import seaborn as sns\n",
        "import matplotlib.pyplot as plt\n",
        "%matplotlib inline\n",
        "\n",
        "g=sns.clustermap(df_lda.corr(), center=0, cmap=\"RdBu\", metric='cosine', linewidths=.75, figsize=(12, 12))\n",
        "plt.setp(g.ax_heatmap.yaxis.get_majorticklabels(), rotation=0)\n",
        "plt.show()"
      ],
      "execution_count": null,
      "outputs": []
    },
    {
      "cell_type": "code",
      "metadata": {
        "id": "cyNH_KTQmPBT"
      },
      "source": [
        "MAX_LENGTH = 500\n",
        "tokenizer = Tokenizer()\n",
        "tokenizer.fit_on_texts(data.Description.values)\n",
        "post_seq = tokenizer.texts_to_sequences(data.Description.values)\n",
        "post_seq_padded = pad_sequences(post_seq, maxlen=MAX_LENGTH)"
      ],
      "execution_count": null,
      "outputs": []
    },
    {
      "cell_type": "code",
      "metadata": {
        "id": "aTlx9c0lmTKv"
      },
      "source": [
        "X_train, X_test, y_train, y_test = train_test_split(post_seq_padded, y, test_size=0.05,random_state=42)"
      ],
      "execution_count": null,
      "outputs": []
    },
    {
      "cell_type": "code",
      "metadata": {
        "id": "ZcaRGcs_mVUF"
      },
      "source": [
        "vocab_size = len(tokenizer.word_index) + 1"
      ],
      "execution_count": null,
      "outputs": []
    },
    {
      "cell_type": "markdown",
      "metadata": {
        "id": "ziKbcfyjmh4P"
      },
      "source": [
        "Deep Learning Simple Model"
      ]
    },
    {
      "cell_type": "code",
      "metadata": {
        "id": "kHs5IGEymYCO"
      },
      "source": [
        "inputs = Input(shape=(MAX_LENGTH, ))\n",
        "embedding_layer = Embedding(vocab_size,\n",
        "                            128,\n",
        "                            input_length=MAX_LENGTH)(inputs)\n",
        "x = Flatten()(embedding_layer)\n",
        "x = Dense(32, activation='relu')(x)\n",
        "\n",
        "predictions = Dense(num_class, activation='softmax')(x)\n",
        "model = Model(inputs=[inputs], outputs=predictions)\n",
        "model.compile(optimizer='adam',\n",
        "              loss='categorical_crossentropy',\n",
        "              metrics=['acc'])\n",
        "\n",
        "model.summary()\n",
        "filepath=\"weights-simple.hdf5\"\n",
        "checkpointer = ModelCheckpoint(filepath, monitor='val_acc', verbose=1, save_best_only=True, mode='max')\n",
        "history = model.fit([X_train], batch_size=64, y=to_categorical(y_train), verbose=1, validation_split=0.25, \n",
        "          shuffle=True, epochs=10, callbacks=[checkpointer])"
      ],
      "execution_count": null,
      "outputs": []
    },
    {
      "cell_type": "code",
      "metadata": {
        "id": "yKnTkW2RmnMU"
      },
      "source": [
        "df = pd.DataFrame({'epochs':history.epoch, 'accuracy': history.history['acc'], 'validation_accuracy': history.history['val_acc']})\n",
        "g = sns.pointplot(x=\"epochs\", y=\"accuracy\", data=df, fit_reg=False)\n",
        "g = sns.pointplot(x=\"epochs\", y=\"validation_accuracy\", data=df, fit_reg=False, color='green')"
      ],
      "execution_count": null,
      "outputs": []
    },
    {
      "cell_type": "code",
      "metadata": {
        "id": "d0PfzqdTmqzE"
      },
      "source": [
        "predicted = model.predict(X_test)\n",
        "predicted = np.argmax(predicted, axis=1)\n",
        "accuracy_score(y_test, predicted)"
      ],
      "execution_count": null,
      "outputs": []
    },
    {
      "cell_type": "code",
      "metadata": {
        "id": "iR_FqZ3smuSe"
      },
      "source": [
        "cnf_matrix = confusion_matrix(y_test, predicted)\n",
        "plt.figure(figsize=(10,10))\n",
        "plot_confusion_matrix(cnf_matrix, classes=text_labels, title=\"Confusion matrix\")\n",
        "plt.show()"
      ],
      "execution_count": null,
      "outputs": []
    },
    {
      "cell_type": "code",
      "metadata": {
        "id": "1IYKl5FsmwzK"
      },
      "source": [
        ""
      ],
      "execution_count": null,
      "outputs": []
    }
  ]
}